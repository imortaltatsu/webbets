{
 "cells": [
  {
   "cell_type": "code",
   "execution_count": null,
   "metadata": {},
   "outputs": [],
   "source": [
    "from selenium import webdriver\n",
    "from datetime import datetime\n",
    "from selenium.webdriver.common.by import By\n",
    "import pandas as pd\n",
    "import time\n",
    "import json\n",
    "from bs4 import BeautifulSoup"
   ]
  },
  {
   "cell_type": "code",
   "execution_count": null,
   "metadata": {},
   "outputs": [],
   "source": [
    "df=pd.DataFrame(columns=[\"teams\",\"team 1 odds\",\"team 2 odds\",\"website\"])\n",
    "browser = webdriver.Edge()\n",
    "browser.get('https://megapari.com/live/cricket')\n",
    "time.sleep(10)\n",
    "data=browser.find_element(By.CSS_SELECTOR, '#games_content')\n",
    "soup = BeautifulSoup(data.get_attribute('innerHTML'), 'html.parser')\n",
    "matches = soup.findAll(\"div\",class_='dashboard-champ-content')\n",
    "for match in matches:\n",
    "    a=match.findAll(\"span\",class_=\"c-bets__inner\")\n",
    "    name=match.findAll(\"div\",class_=\"c-events__team\")\n",
    "    df=df.append({\"teams\":name[0].text,\"team 1 odds\":a[0].text,\"team 2 odds\":a[1].text,\"website\":\"megapari\"},ignore_index=True)"
   ]
  },
  {
   "cell_type": "code",
   "execution_count": null,
   "metadata": {},
   "outputs": [],
   "source": [
    "for match in matches:\n",
    "    a=match.findAll(\"span\",class_=\"c-bets__inner\")\n",
    "    name=match.findAll(\"div\",class_=\"c-events__team\")\n",
    "    df=df.append({\"teams\":name[0].text,\"team 1 odds\":a[0].text,\"team 2 odds\":a[1].text,\"website\":\"megapari\"},ignore_index=True)"
   ]
  },
  {
   "cell_type": "code",
   "execution_count": null,
   "metadata": {},
   "outputs": [],
   "source": [
    "for i in matches:\n",
    "    print(i.text)\n"
   ]
  },
  {
   "cell_type": "code",
   "execution_count": null,
   "metadata": {},
   "outputs": [],
   "source": [
    "df"
   ]
  },
  {
   "cell_type": "code",
   "execution_count": null,
   "metadata": {},
   "outputs": [],
   "source": [
    "a[2].text"
   ]
  },
  {
   "cell_type": "code",
   "execution_count": null,
   "metadata": {},
   "outputs": [],
   "source": []
  }
 ],
 "metadata": {
  "kernelspec": {
   "display_name": "webscraping",
   "language": "python",
   "name": "python3"
  },
  "language_info": {
   "codemirror_mode": {
    "name": "ipython",
    "version": 3
   },
   "file_extension": ".py",
   "mimetype": "text/x-python",
   "name": "python",
   "nbconvert_exporter": "python",
   "pygments_lexer": "ipython3",
   "version": "3.11.3"
  },
  "orig_nbformat": 4
 },
 "nbformat": 4,
 "nbformat_minor": 2
}
