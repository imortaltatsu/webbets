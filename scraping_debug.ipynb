{
 "cells": [
  {
   "cell_type": "code",
   "execution_count": 18,
   "metadata": {},
   "outputs": [],
   "source": [
    "from selenium import webdriver\n",
    "from datetime import datetime\n",
    "from selenium.webdriver.common.by import By\n",
    "import pandas as pd\n",
    "import time\n",
    "import json\n",
    "from bs4 import BeautifulSoup"
   ]
  },
  {
   "cell_type": "code",
   "execution_count": null,
   "metadata": {},
   "outputs": [],
   "source": [
    "def scrape_all_events():\n",
    "  \"\"\"\n",
    "  Scrape all events from Parimatch for a given sport.\n",
    "\n",
    "  Args:\n",
    "    sport: The sport to scrape data for.\n",
    "\n",
    "  Returns:\n",
    "    A DataFrame containing the scraped data.\n",
    "  \"\"\"\n",
    "\n",
    "  # Get the URL for the events page.\n",
    "  url = f\"https://parimatch-in.com/en/cricket/\"\n",
    "  time.sleep(2)\n",
    "  # Scrape the page.\n",
    "  response = requests.get(url)\n",
    "  time.sleep(2)\n",
    "  soup = BeautifulSoup(response.content, \"html.parser\")\n",
    "\n",
    "  # Get the events.\n",
    "  events = soup.find_all(\"div\", class_=\"styles_wrapper__BfdYz styles_wrapper-card-with-favorites__kCilz styles_wrapper-card__2uN8L EC_Hb\")\n",
    "\n",
    "  # Create a DataFrame to store the data.\n",
    "  df = pd.DataFrame()\n",
    "\n",
    "  # Add the events to the DataFrame.\n",
    "  for event in events:\n",
    "    event_name = event.find(\"h3\").text\n",
    "    event_url = event.find(\"a\").get(\"href\")\n",
    "    df = df.append({\"Event Name\": event_name, \"Event URL\": event_url}, ignore_index=True)\n",
    "\n",
    "  # Return the DataFrame.\n",
    "  return events"
   ]
  },
  {
   "cell_type": "code",
   "execution_count": 19,
   "metadata": {},
   "outputs": [
    {
     "name": "stdout",
     "output_type": "stream",
     "text": [
      "<!DOCTYPE html>\n",
      "<html lang=\"en-US\"><head><meta charset=\"utf-8\"/><title>...</title><meta content=\"width=device-width,initial-scale=1,maximum-scale=1,user-scalable=0\" name=\"viewport\"/><meta content=\"#000000\" name=\"theme-color\"/><link href=\"pwa/manifest.json\" rel=\"manifest\"/><link href=\"/favicon.ico\" rel=\"shortcut icon\"/><link href=\"/favicon-32x32.png\" rel=\"icon\" sizes=\"32x32\" type=\"image/png\"/><link href=\"/favicon-16x16.png\" rel=\"icon\" sizes=\"16x16\" type=\"image/png\"/><link href=\"/content/uploads/icons/IN/iphone5_splash.png\" media=\"(device-width: 320px) and (device-height: 568px) and (-webkit-device-pixel-ratio: 2)\" rel=\"apple-touch-startup-image\"/><link href=\"/content/uploads/icons/IN/iphone6_splash.png\" media=\"(device-width: 375px) and (device-height: 667px) and (-webkit-device-pixel-ratio: 2)\" rel=\"apple-touch-startup-image\"/><link href=\"/content/uploads/icons/IN/iphoneplus_splash.png\" media=\"(device-width: 621px) and (device-height: 1104px) and (-webkit-device-pixel-ratio: 3)\" rel=\"apple-touch-startup-image\"/><link href=\"/content/uploads/icons/IN/iphonex_splash.png\" media=\"(device-width: 375px) and (device-height: 812px) and (-webkit-device-pixel-ratio: 3)\" rel=\"apple-touch-startup-image\"/><link href=\"/content/uploads/icons/IN/iphonexr_splash.png\" media=\"(device-width: 414px) and (device-height: 896px) and (-webkit-device-pixel-ratio: 2)\" rel=\"apple-touch-startup-image\"/><link href=\"/content/uploads/icons/IN/iphonexsmax_splash.png\" media=\"(device-width: 414px) and (device-height: 896px) and (-webkit-device-pixel-ratio: 3)\" rel=\"apple-touch-startup-image\"/><link href=\"/content/uploads/icons/IN/ipad_splash.png\" media=\"(device-width: 768px) and (device-height: 1024px) and (-webkit-device-pixel-ratio: 2)\" rel=\"apple-touch-startup-image\"/><link href=\"/content/uploads/icons/IN/ipadpro1_splash.png\" media=\"(device-width: 834px) and (device-height: 1112px) and (-webkit-device-pixel-ratio: 2)\" rel=\"apple-touch-startup-image\"/><link href=\"/content/uploads/icons/IN/ipadpro3_splash.png\" media=\"(device-width: 834px) and (device-height: 1194px) and (-webkit-device-pixel-ratio: 2)\" rel=\"apple-touch-startup-image\"/><link href=\"/content/uploads/icons/IN/ipadpro2_splash.png\" media=\"(device-width: 1024px) and (device-height: 1366px) and (-webkit-device-pixel-ratio: 2)\" rel=\"apple-touch-startup-image\"/><meta content=\"/content/uploads/icons/IN/smalltile.png\" name=\"msapplication-square70x70logo\"/><meta content=\"/content/uploads/icons/IN/mediumtile.png\" name=\"msapplication-square150x150logo\"/><meta content=\"/content/uploads/icons/IN/widetile.png\" name=\"msapplication-wide310x150logo\"/><meta content=\"/content/uploads/icons/IN/largetile.png\" name=\"msapplication-square310x310logo\"/><meta content=\"black\" name=\"apple-mobile-web-app-status-bar-style\"/><meta content=\"#000\" name=\"theme-color\"/><meta content=\"#000\" name=\"msapplication-TileColor\"/><link href=\"/content/uploads/icons/IN/apple-touch-icon-precomposed.png\" rel=\"apple-touch-icon-precomposed\" sizes=\"180x180\"/><link href=\"/content/uploads/icons/IN/apple-touch-icon.png\" rel=\"apple-touch-icon\"/><base href=\"/\"/><style>#root{width:100%;min-height:100%}</style><style id=\"pre-render--styles\">:root{--primary:#000;--primary_900:#1a1a1a;--primary_800:#262626;--primary_100:#ebebeb;--secondary:#f8ff13;--surface_default:#fff;--body-padding:0}body[data-brand=GLS]{--secondary:#01edff}body[data-brand=NGU2] #root,body[data-brand=NOMAD] #root{background-color:var(--primary_50)}body[data-brand=NBR],body[data-brand=NGU2],body[data-brand=NOMAD],body[data-brand=NPE]{color:#fff;--primary:#1d2158;--primary_900:#f6f9ff;--primary_800:#bdcfff;--primary_100:#1d2158;--primary_50:#05051b;--secondary:#78aa0f;--surface_default:#fff}*{margin:0;padding:0;-webkit-box-sizing:border-box;box-sizing:border-box;outline:0}body,html{font-family:sans-serif;-webkit-font-smoothing:antialiased;color:#000;color:var(--primary);background-color:#ebebeb;background-color:var(--primary_100);margin:0;height:100vh}body{padding-top:var(--body-padding);background-color:var(--primary_100);overflow-y:scroll}body[data-brand=NGU2],body[data-brand=NOMAD]{background-color:var(--primary_50)}[type=button],[type=reset],[type=submit],button{-webkit-appearance:button}button,select{text-transform:none}button,input{overflow:visible}button,input,optgroup,select,textarea{font-family:inherit;font-size:100%;line-height:1.15;margin:0}a{text-decoration:none}.DefaultLayout--content-wrapper,.DefaultLayout--wrapper,.DefaultLayout--wrapper .DefaultLayout--content-wrapper,.DefaultNavigationDesktopMenu{display:-webkit-box;display:-ms-flexbox;display:flex}.DefaultLayout--content-wrapper,.DefaultLayout--wrapper{-webkit-box-orient:vertical;-webkit-box-direction:normal;-ms-flex-direction:column;flex-direction:column}.DefaultLayout--wrapper{padding-bottom:120px;min-height:100%;position:relative;z-index:103}.DefaultNavigationDesktopMenu{display:none}.DefaultLayout--content-wrapper{-webkit-box-flex:1;-ms-flex:1 0 auto;flex:1 0 auto}#loader-container{background-color:var(--primary)}body[data-brand=NBR] #loader-container,body[data-brand=NGU2] #loader-container,body[data-brand=NOMAD] #loader-container,body[data-brand=NPE] #loader-container{background:radial-gradient(48.44% 68.12% at 50% 50%,#002176 0,#05051b 100%)}body[data-brand=COM2] #loader-container{background:linear-gradient(0deg,rgba(79,79,79,.1),rgba(79,79,79,.1)),linear-gradient(135deg,#a6896e -103.18%,#000 62.36%)}@media all and (min-width:1280px){.DefaultLayout--wrapper{padding-bottom:0;min-height:100%;-webkit-box-orient:vertical;-webkit-box-direction:normal;-ms-flex-direction:column;flex-direction:column}.DefaultLayout--wrapper .DefaultLayout--content-wrapper{width:100%;min-height:100vh;-webkit-box-orient:horizontal;-webkit-box-direction:reverse;-ms-flex-direction:row;flex-direction:row;padding-right:8px}.DefaultNavigationDesktopMenu{width:25vw;background-color:var(--primary_900);margin-top:-22px}}#pre-render--html+#root{position:absolute;left:-9999px;top:0}@keyframes anim-rotate{0%{transform:rotate(0)}100%{transform:rotate(360deg)}}.animation-rotate{animation:anim-rotate .5s linear infinite}</style><!--It should be empty. Add correct script on every brand needed-->\n",
      "<script>!function(a,b,c,d,e,f){a.ddjskey=e;a.ddoptions=f||null;var m=b.createElement(c),n=b.getElementsByTagName(c)[0];m.async=1,m.src=d,n.parentNode.insertBefore(m,n)}(window,document,\"script\",\"https://js.datadome.co/tags.js\",\"8C3B447B229E3576822D6D36561F42\", { ajaxListenerPath: true });</script>\n",
      "</head><body data-brand=\"IN\"><script>window.__PRERENDERED_MANIFEST__ = {\"features\":\"features.8fb0d0331c05d4c3f47b5e725fd5aac8.json\",\"common\":\"common.8019eecfac7e402e7ab452d3ed27f727.json\",\"support\":\"support.8a6e3e5cd00a85fef1fe3af362fab645.json\",\"abaServices\":\"abaServices.8d3a3770de3bf9de121495bfde950e7c.json\",\"kyc\":\"kyc.adf2e11c9e37854243d2ec172836292e.json\",\"footer\":\"footer.789c1dac1bda520adf3b4995e96a7f43.json\",\"topWidget\":\"topWidget.14dad6ba61db576878ebb03aee234839.json\",\"accountsCommon\":\"accountsCommon.ea38d50f63408d2f00495cd13fe61388.json\",\"countriesList\":\"countriesList.ab36013eac20a067a816269facee878d.json\",\"fieldsRules\":\"fieldsRules.a85193db8e4637b31e8be73b55b23907.json\",\"seo\":\"seo.14a8a038701bff172dfd841f58b4da6e.json\",\"sports\":\"sports.f5a8f3aa5eb546ba3cb643aada46e98e.json\",\"search\":\"search.3fbaa64eab8b9850b5ecd952ad456e71.json\",\"paymentsHistory\":\"paymentsHistory.5244bfeb1ab3b9a487c9fa2d6f79c970.json\",\"eventMarketTabs\":\"eventMarketTabs.6b027ad0b21091393f30f8e03d141e78.json\",\"recommendedCards\":\"recommendedCards.36c96834affa5187ea755bdda55dc6bd.json\",\"vipUsers\":\"vipUsers.4ec3ef98a0d0df17f0f0fc0d52efde9e.json\",\"betslipCommon\":\"betslipCommon.9463848d14bab1d0024e42922e85ac10.json\",\"faq\":\"faq.a766e34daafe3fbadc9251eb0dd4346d.json\",\"betsHistoryCommon\":\"betsHistoryCommon.43dcb0ea8aa2b5335ee2ff39abf84f02.json\",\"tabBarMobile\":\"tabBarMobile.60d5304d9637a7bf817529fa0dbb311a.json\",\"stickyMenu\":\"stickyMenu.5d74c48860319832b83343f8cbf5a1c5.json\",\"quickAccessButtons\":\"quickAccessButtons.b631328cc5f09722cbb4ad7cdcb37f8d.json\",\"tabBarDesktop\":\"tabBarDesktop.bc5c58df058692d4cac15d1f651b8818.json\",\"eventCenter\":\"eventCenter.98c9b139ed40c0d38582d9ec0b23600a.json\",\"growthbook_experiments\":\"growthbook_experiments.b6de5eb5134337272c9fc46fdd265985.json\",\"registration\":\"registration.5c01430b9e70c72797e4baff348ca56e.json\",\"nativeAppsPage\":\"nativeAppsPage.0c565a2d4777d04ee2dc4077a5758b33.json\",\"eventViewBanner\":\"eventViewBanner.b32dd1fe449b4eb543578daac9119f15.json\",\"maintenance\":\"maintenance.664fe02d2752a7b9fa2510d1a4aeb528.json\",\"slides\":\"slides.eedcea353b9876acfc7fef25a53c97da.json\",\"firstBet\":\"firstBet.4de3104f06385e44c711290f8f126842.json\",\"phoneConfirmation\":\"phoneConfirmation.3402402d2074b29a07b0c68c32783791.json\",\"userAccountConfig\":\"userAccountConfig.a753859c3569ce35b5dfe02e2f185b78.json\",\"contentHub\":\"contentHub.dd27268f6a1e0ae675d6f17012cda596.json\",\"betsHistoryCommonModulor\":\"betsHistoryCommonModulor.6cd5d07765455d222b132707aea1ebfe.json\",\"sportScores\":\"sportScores.aed9022908de5d0df42f7e30cbf74dc7.json\",\"marketLayouts\":\"marketLayouts.b02750ec2e3081cc2cd2a3ef175e91a6.json\",\"kycConfiguration\":\"kycConfiguration.a40e2d2e29131181193693642ab1e5a9.json\",\"loginPage\":\"loginPage.1b13e3972c6af785f29455e52974fd2c.json\",\"welcomeImage\":\"welcomeImage.03c7199b6314ca1b9d9cda52617dd90d.json\"};\n",
      "  window.__PRERENDERED_SETTINGS__ = {\n",
      "  \"DEFAULT_LANGUAGE_DOMAIN\": \"en\"\n",
      "};</script><div class=\"DefaultLayout--wrapper\" id=\"pre-render--html\"><svg style=\"position:absolute;width:0;height:0\" xmlns=\"http://www.w3.org/2000/svg\" xmlns:xlink=\"http://www.w3.org/1999/xlink\"><symbol id=\"UII_Live\" viewbox=\"0 0 20 16\" xmlns=\"http://www.w3.org/2000/svg\"><path d=\"M2.87.5h14.26c1.12 0 2.037.75 2.037 1.667v11.667c0 .917-.917 1.667-2.037 1.667H2.87c-1.12 0-2.037-.75-2.037-1.667V2.167C.833 1.25 1.75.5 2.87.5zm3.325 9.007h-2.1V4.576H2.9V10.5h3.296v-.993zm.745.993h1.196V4.576H6.94V10.5zm4.13-1.628l.997-4.297h1.335l-1.71 5.924h-1.245L8.75 4.576h1.327l.993 4.297zm4.085-.936h1.864v-.964h-1.864v-1.4h2.197v-.997H13.96V10.5h3.402v-.993h-2.205v-1.57z\" fill-rule=\"evenodd\"></path></symbol><symbol id=\"UII_Data\" viewbox=\"0 0 18 20\" xmlns=\"http://www.w3.org/2000/svg\"><path d=\"M17 2c.6 0 1 .4 1 1v16c0 .6-.4 1-1 1H1c-.6 0-1-.4-1-1V3c0-.6.4-1 1-1h3V0h2v2h6V0h2v2h3zm-1 16V6H2v12h14zM4 8h5v5H4V8z\"></path></symbol><symbol id=\"UII_Casino\" viewbox=\"0 0 24 24\" xmlns=\"http://www.w3.org/2000/svg\"><path d=\"M11.2 3.8l.9-1.8.9 1.8 2 .3-1.45 1.4.34 2-1.8-.94-1.8.94.34-2L9.2 4.1l2-.3zm3 6.25h7.9v12.72H2V10.06h12.2zm6.05 10.88H16V11.9h4.24v9.03zm-6.08 0H9.93V11.9h4.24v9.03zm-6.08 0H3.84V11.9h4.24v9.03zM15.96 7.2l-.34 2 1.8-.94 1.8.94-.34-2 1.44-1.4-2-.3-.9-1.8-.9 1.8-2 .3 1.44 1.4zm-9.2 1.05l-1.8.94.34-2-1.44-1.4 2-.3.9-1.8.9 1.8 2 .3L8.2 7.2l.34 2-1.78-.94z\" fill-rule=\"evenodd\"></path></symbol><symbol id=\"UII_VirtualSport\" viewbox=\"0 0 24 24\" xmlns=\"http://www.w3.org/2000/svg\"><path d=\"M4.3 3.9c-.18 0-.46.2-.46.58v9.16c0 .4.3.6.46.6h8.78a1 1 0 1 1 0 2h-1.1v1.46h1.6c.44 0 .8.4.8.87s-.36.87-.8.87H8c-.44 0-.8-.4-.8-.87s.36-.87.8-.87h1.6v-1.46H4.3c-1.43 0-2.46-1.25-2.46-2.6V4.5c0-1.35 1.03-2.58 2.46-2.58h12.96c1.43 0 2.45 1.24 2.45 2.58v5.34a1 1 0 1 1-2 0V4.5c0-.4-.28-.58-.45-.58H4.3zm13.22 9.87c-.4 0-.77.36-.77.9v3.8c0 1.2.88 2.1 1.88 2.1s1.88-.9 1.88-2.1v-3.8c0-.53-.4-.9-.77-.9h-2.2zm-1.77.9c0-1 .75-1.9 1.77-1.9h2.2c1.02 0 1.77.9 1.77 1.9v3.8c0 1.67-1.25 3.1-2.88 3.1s-2.88-1.43-2.88-3.1v-3.8zm2.1 2.07c0 .48.36.87.8.87s.8-.4.8-.87v-.87c0-.48-.36-.87-.8-.87s-.8.4-.8.87v.87z\" fill-rule=\"evenodd\"></path></symbol></svg><div class=\"DefaultLayout--content-wrapper\"><div class=\"DefaultNavigationDesktopMenu\"></div><div id=\"loader-container\" style=\"position:absolute;color:#000;top:0;left:0;right:0;bottom:0;display:block;z-index:10000\"><div id=\"loader\" style=\"position:absolute;color:#000;top:50%;left:50%;transform:translate(-50%,-50%)\"><svg height=\"45\" id=\"Layer_1\" version=\"1.1\" viewbox=\"0 0 500 150\" width=\"150\" x=\"0\" xml:space=\"preserve\" xmlns=\"http://www.w3.org/2000/svg\" y=\"0\"><style>.st0{fill:#f8ff13}</style><path class=\"st0\" d=\"M94.1 70l5.3-18.6h24.7c13 0 20.9-5.9 24.5-18.4l2-6.9C155.2 10.2 147.7.3 131.3.3H23.9L3.9 70h90.2zm37.1-51L127 34.2h-22.6l4.3-15.1h22.5zM159.8 70l6.6-11.7H197V70h20.1V.2h-39.5L136.5 70h23.3zm28.9-50.8h8.3v22.2h-21l12.7-22.2zM299.1 32.3l1.8-6.3C305.5 9.9 298 .2 281.6.2h-38.2l-20 69.8h20.9l5.5-19.2h13l5.9 19.2h21.5l-6.3-20.5c7.6-2.3 12.6-8 15.2-17.2M258.9 19h22.5l-4.2 15.1h-22.6l4.3-15.1zM318.7 70l20-69.8h-21L297.8 70zM190.6 79.9L167 107.8l-9.7-27.9H66.8l-19.9 69.9h90.2l11-38.6 7.3 21.6h13.5l19.5-23-11.5 40h20.9l19.9-69.9zM245.7 79.9l-41.2 69.8h23.3l6.6-11.7H265v11.7h20.1V80l-39.4-.1zm-1.6 41.3L256.7 99h8.3v22.2h-20.9zM355.8 99.9l5.7-20H298l-5.7 20h23L301 149.8h20.9l14.3-49.9zM383.7 99.9h31.7l5.8-19.9h-33.8c-13 0-20.9 5.9-24.5 18.4l-7.4 25.5c-4.7 16.3 2.9 25.8 19.3 25.8h26.3l5.7-19.9h-31.7l8.6-29.9zM475.2 79.9l-7.2 25h-23.9l7.1-25h-20.9l-19.9 69.9h20.9l7.1-25h23.9l-7.1 25h21l19.9-69.9z\"></path></svg></div></div></div></div><div id=\"root\"></div><script async=\"\" src=\"/lcpContent.js\"></script><script id=\"pre-render--configs\"></script><script src=\"main.8a71d7bad6cd80875bb5.js\"></script><script src=\"shell.js\"></script></body></html>\n",
      "[]\n"
     ]
    }
   ],
   "source": [
    "import requests\n",
    "import time\n",
    "from bs4 import BeautifulSoup\n",
    "url = f\"https://parimatch-in.com/en/cricket/\"\n",
    "# Scrape the page.\n",
    "response = requests.get(url)\n",
    "soup = BeautifulSoup(response.content, \"html.parser\")\n",
    "time.sleep(2)\n",
    "print(soup)\n",
    "events = soup.find_all(\"div\", class_=\"styles_wrapper__BfdYz styles_wrapper-card-with-favorites__kCilz styles_wrapper-card__2uN8L EC_Hb\")\n",
    "print(events)"
   ]
  },
  {
   "cell_type": "code",
   "execution_count": 57,
   "metadata": {},
   "outputs": [],
   "source": [
    "import requests\n",
    "import time\n",
    "from bs4 import BeautifulSoup\n",
    "url = f\"https://parimatch-in.com/en/cricket/live\"\n",
    "headers = {\n",
    "    'User-agent':\n",
    "    'Mozilla/5.0 (Windows NT 10.0; Win64; x64) AppleWebKit/537.36 (KHTML, like Gecko) Chrome/70.0.3538.102 Safari/537.36 Edge/18.19582'\n",
    "}\n",
    "time.sleep(5)\n",
    "response = requests.get(url,headers)\n",
    "time.sleep(5)\n",
    "soup = BeautifulSoup(response.content, \"html.parser\")\n"
   ]
  },
  {
   "cell_type": "code",
   "execution_count": 58,
   "metadata": {},
   "outputs": [
    {
     "name": "stdout",
     "output_type": "stream",
     "text": [
      "<Response [200]>\n"
     ]
    }
   ],
   "source": [
    "print(response)"
   ]
  },
  {
   "cell_type": "code",
   "execution_count": 59,
   "metadata": {},
   "outputs": [
    {
     "data": {
      "text/plain": [
       "[]"
      ]
     },
     "execution_count": 59,
     "metadata": {},
     "output_type": "execute_result"
    }
   ],
   "source": [
    "soup.select(\"line-holder > div.EC_AI\")"
   ]
  },
  {
   "cell_type": "code",
   "execution_count": 60,
   "metadata": {},
   "outputs": [
    {
     "data": {
      "text/plain": [
       "'<!DOCTYPE html>\\n<html lang=\"en-US\">\\n <head>\\n  <meta charset=\"utf-8\"/>\\n  <title>\\n   ...\\n  </title>\\n  <meta content=\"width=device-width,initial-scale=1,maximum-scale=1,user-scalable=0\" name=\"viewport\"/>\\n  <meta content=\"#000000\" name=\"theme-color\"/>\\n  <link href=\"pwa/manifest.json\" rel=\"manifest\"/>\\n  <link href=\"/favicon.ico\" rel=\"shortcut icon\"/>\\n  <link href=\"/favicon-32x32.png\" rel=\"icon\" sizes=\"32x32\" type=\"image/png\"/>\\n  <link href=\"/favicon-16x16.png\" rel=\"icon\" sizes=\"16x16\" type=\"image/png\"/>\\n  <link href=\"/content/uploads/icons/IN/iphone5_splash.png\" media=\"(device-width: 320px) and (device-height: 568px) and (-webkit-device-pixel-ratio: 2)\" rel=\"apple-touch-startup-image\"/>\\n  <link href=\"/content/uploads/icons/IN/iphone6_splash.png\" media=\"(device-width: 375px) and (device-height: 667px) and (-webkit-device-pixel-ratio: 2)\" rel=\"apple-touch-startup-image\"/>\\n  <link href=\"/content/uploads/icons/IN/iphoneplus_splash.png\" media=\"(device-width: 621px) and (device-height: 1104px) and (-webkit-device-pixel-ratio: 3)\" rel=\"apple-touch-startup-image\"/>\\n  <link href=\"/content/uploads/icons/IN/iphonex_splash.png\" media=\"(device-width: 375px) and (device-height: 812px) and (-webkit-device-pixel-ratio: 3)\" rel=\"apple-touch-startup-image\"/>\\n  <link href=\"/content/uploads/icons/IN/iphonexr_splash.png\" media=\"(device-width: 414px) and (device-height: 896px) and (-webkit-device-pixel-ratio: 2)\" rel=\"apple-touch-startup-image\"/>\\n  <link href=\"/content/uploads/icons/IN/iphonexsmax_splash.png\" media=\"(device-width: 414px) and (device-height: 896px) and (-webkit-device-pixel-ratio: 3)\" rel=\"apple-touch-startup-image\"/>\\n  <link href=\"/content/uploads/icons/IN/ipad_splash.png\" media=\"(device-width: 768px) and (device-height: 1024px) and (-webkit-device-pixel-ratio: 2)\" rel=\"apple-touch-startup-image\"/>\\n  <link href=\"/content/uploads/icons/IN/ipadpro1_splash.png\" media=\"(device-width: 834px) and (device-height: 1112px) and (-webkit-device-pixel-ratio: 2)\" rel=\"apple-touch-startup-image\"/>\\n  <link href=\"/content/uploads/icons/IN/ipadpro3_splash.png\" media=\"(device-width: 834px) and (device-height: 1194px) and (-webkit-device-pixel-ratio: 2)\" rel=\"apple-touch-startup-image\"/>\\n  <link href=\"/content/uploads/icons/IN/ipadpro2_splash.png\" media=\"(device-width: 1024px) and (device-height: 1366px) and (-webkit-device-pixel-ratio: 2)\" rel=\"apple-touch-startup-image\"/>\\n  <meta content=\"/content/uploads/icons/IN/smalltile.png\" name=\"msapplication-square70x70logo\"/>\\n  <meta content=\"/content/uploads/icons/IN/mediumtile.png\" name=\"msapplication-square150x150logo\"/>\\n  <meta content=\"/content/uploads/icons/IN/widetile.png\" name=\"msapplication-wide310x150logo\"/>\\n  <meta content=\"/content/uploads/icons/IN/largetile.png\" name=\"msapplication-square310x310logo\"/>\\n  <meta content=\"black\" name=\"apple-mobile-web-app-status-bar-style\"/>\\n  <meta content=\"#000\" name=\"theme-color\"/>\\n  <meta content=\"#000\" name=\"msapplication-TileColor\"/>\\n  <link href=\"/content/uploads/icons/IN/apple-touch-icon-precomposed.png\" rel=\"apple-touch-icon-precomposed\" sizes=\"180x180\"/>\\n  <link href=\"/content/uploads/icons/IN/apple-touch-icon.png\" rel=\"apple-touch-icon\"/>\\n  <base href=\"/\"/>\\n  <style>\\n   #root{width:100%;min-height:100%}\\n  </style>\\n  <style id=\"pre-render--styles\">\\n   :root{--primary:#000;--primary_900:#1a1a1a;--primary_800:#262626;--primary_100:#ebebeb;--secondary:#f8ff13;--surface_default:#fff;--body-padding:0}body[data-brand=GLS]{--secondary:#01edff}body[data-brand=NGU2] #root,body[data-brand=NOMAD] #root{background-color:var(--primary_50)}body[data-brand=NBR],body[data-brand=NGU2],body[data-brand=NOMAD],body[data-brand=NPE]{color:#fff;--primary:#1d2158;--primary_900:#f6f9ff;--primary_800:#bdcfff;--primary_100:#1d2158;--primary_50:#05051b;--secondary:#78aa0f;--surface_default:#fff}*{margin:0;padding:0;-webkit-box-sizing:border-box;box-sizing:border-box;outline:0}body,html{font-family:sans-serif;-webkit-font-smoothing:antialiased;color:#000;color:var(--primary);background-color:#ebebeb;background-color:var(--primary_100);margin:0;height:100vh}body{padding-top:var(--body-padding);background-color:var(--primary_100);overflow-y:scroll}body[data-brand=NGU2],body[data-brand=NOMAD]{background-color:var(--primary_50)}[type=button],[type=reset],[type=submit],button{-webkit-appearance:button}button,select{text-transform:none}button,input{overflow:visible}button,input,optgroup,select,textarea{font-family:inherit;font-size:100%;line-height:1.15;margin:0}a{text-decoration:none}.DefaultLayout--content-wrapper,.DefaultLayout--wrapper,.DefaultLayout--wrapper .DefaultLayout--content-wrapper,.DefaultNavigationDesktopMenu{display:-webkit-box;display:-ms-flexbox;display:flex}.DefaultLayout--content-wrapper,.DefaultLayout--wrapper{-webkit-box-orient:vertical;-webkit-box-direction:normal;-ms-flex-direction:column;flex-direction:column}.DefaultLayout--wrapper{padding-bottom:120px;min-height:100%;position:relative;z-index:103}.DefaultNavigationDesktopMenu{display:none}.DefaultLayout--content-wrapper{-webkit-box-flex:1;-ms-flex:1 0 auto;flex:1 0 auto}#loader-container{background-color:var(--primary)}body[data-brand=NBR] #loader-container,body[data-brand=NGU2] #loader-container,body[data-brand=NOMAD] #loader-container,body[data-brand=NPE] #loader-container{background:radial-gradient(48.44% 68.12% at 50% 50%,#002176 0,#05051b 100%)}body[data-brand=COM2] #loader-container{background:linear-gradient(0deg,rgba(79,79,79,.1),rgba(79,79,79,.1)),linear-gradient(135deg,#a6896e -103.18%,#000 62.36%)}@media all and (min-width:1280px){.DefaultLayout--wrapper{padding-bottom:0;min-height:100%;-webkit-box-orient:vertical;-webkit-box-direction:normal;-ms-flex-direction:column;flex-direction:column}.DefaultLayout--wrapper .DefaultLayout--content-wrapper{width:100%;min-height:100vh;-webkit-box-orient:horizontal;-webkit-box-direction:reverse;-ms-flex-direction:row;flex-direction:row;padding-right:8px}.DefaultNavigationDesktopMenu{width:25vw;background-color:var(--primary_900);margin-top:-22px}}#pre-render--html+#root{position:absolute;left:-9999px;top:0}@keyframes anim-rotate{0%{transform:rotate(0)}100%{transform:rotate(360deg)}}.animation-rotate{animation:anim-rotate .5s linear infinite}\\n  </style>\\n  <!--It should be empty. Add correct script on every brand needed-->\\n  <script>\\n   !function(a,b,c,d,e,f){a.ddjskey=e;a.ddoptions=f||null;var m=b.createElement(c),n=b.getElementsByTagName(c)[0];m.async=1,m.src=d,n.parentNode.insertBefore(m,n)}(window,document,\"script\",\"https://js.datadome.co/tags.js\",\"8C3B447B229E3576822D6D36561F42\", { ajaxListenerPath: true });\\n  </script>\\n </head>\\n <body data-brand=\"IN\">\\n  <script>\\n   window.__PRERENDERED_MANIFEST__ = {\"features\":\"features.8fb0d0331c05d4c3f47b5e725fd5aac8.json\",\"common\":\"common.8019eecfac7e402e7ab452d3ed27f727.json\",\"support\":\"support.8a6e3e5cd00a85fef1fe3af362fab645.json\",\"abaServices\":\"abaServices.8d3a3770de3bf9de121495bfde950e7c.json\",\"kyc\":\"kyc.adf2e11c9e37854243d2ec172836292e.json\",\"footer\":\"footer.789c1dac1bda520adf3b4995e96a7f43.json\",\"topWidget\":\"topWidget.14dad6ba61db576878ebb03aee234839.json\",\"accountsCommon\":\"accountsCommon.ea38d50f63408d2f00495cd13fe61388.json\",\"countriesList\":\"countriesList.ab36013eac20a067a816269facee878d.json\",\"fieldsRules\":\"fieldsRules.a85193db8e4637b31e8be73b55b23907.json\",\"seo\":\"seo.14a8a038701bff172dfd841f58b4da6e.json\",\"sports\":\"sports.f5a8f3aa5eb546ba3cb643aada46e98e.json\",\"search\":\"search.3fbaa64eab8b9850b5ecd952ad456e71.json\",\"paymentsHistory\":\"paymentsHistory.5244bfeb1ab3b9a487c9fa2d6f79c970.json\",\"eventMarketTabs\":\"eventMarketTabs.6b027ad0b21091393f30f8e03d141e78.json\",\"recommendedCards\":\"recommendedCards.36c96834affa5187ea755bdda55dc6bd.json\",\"vipUsers\":\"vipUsers.4ec3ef98a0d0df17f0f0fc0d52efde9e.json\",\"betslipCommon\":\"betslipCommon.9463848d14bab1d0024e42922e85ac10.json\",\"faq\":\"faq.a766e34daafe3fbadc9251eb0dd4346d.json\",\"betsHistoryCommon\":\"betsHistoryCommon.43dcb0ea8aa2b5335ee2ff39abf84f02.json\",\"tabBarMobile\":\"tabBarMobile.60d5304d9637a7bf817529fa0dbb311a.json\",\"stickyMenu\":\"stickyMenu.5d74c48860319832b83343f8cbf5a1c5.json\",\"quickAccessButtons\":\"quickAccessButtons.b631328cc5f09722cbb4ad7cdcb37f8d.json\",\"tabBarDesktop\":\"tabBarDesktop.bc5c58df058692d4cac15d1f651b8818.json\",\"eventCenter\":\"eventCenter.98c9b139ed40c0d38582d9ec0b23600a.json\",\"growthbook_experiments\":\"growthbook_experiments.b6de5eb5134337272c9fc46fdd265985.json\",\"registration\":\"registration.5c01430b9e70c72797e4baff348ca56e.json\",\"nativeAppsPage\":\"nativeAppsPage.0c565a2d4777d04ee2dc4077a5758b33.json\",\"eventViewBanner\":\"eventViewBanner.b32dd1fe449b4eb543578daac9119f15.json\",\"maintenance\":\"maintenance.664fe02d2752a7b9fa2510d1a4aeb528.json\",\"slides\":\"slides.eedcea353b9876acfc7fef25a53c97da.json\",\"firstBet\":\"firstBet.4de3104f06385e44c711290f8f126842.json\",\"phoneConfirmation\":\"phoneConfirmation.3402402d2074b29a07b0c68c32783791.json\",\"userAccountConfig\":\"userAccountConfig.a753859c3569ce35b5dfe02e2f185b78.json\",\"contentHub\":\"contentHub.dd27268f6a1e0ae675d6f17012cda596.json\",\"betsHistoryCommonModulor\":\"betsHistoryCommonModulor.6cd5d07765455d222b132707aea1ebfe.json\",\"sportScores\":\"sportScores.aed9022908de5d0df42f7e30cbf74dc7.json\",\"marketLayouts\":\"marketLayouts.b02750ec2e3081cc2cd2a3ef175e91a6.json\",\"kycConfiguration\":\"kycConfiguration.a40e2d2e29131181193693642ab1e5a9.json\",\"loginPage\":\"loginPage.1b13e3972c6af785f29455e52974fd2c.json\",\"welcomeImage\":\"welcomeImage.03c7199b6314ca1b9d9cda52617dd90d.json\"};\\n  window.__PRERENDERED_SETTINGS__ = {\\n  \"DEFAULT_LANGUAGE_DOMAIN\": \"en\"\\n};\\n  </script>\\n  <div class=\"DefaultLayout--wrapper\" id=\"pre-render--html\">\\n   <svg style=\"position:absolute;width:0;height:0\" xmlns=\"http://www.w3.org/2000/svg\" xmlns:xlink=\"http://www.w3.org/1999/xlink\">\\n    <symbol id=\"UII_Live\" viewbox=\"0 0 20 16\" xmlns=\"http://www.w3.org/2000/svg\">\\n     <path d=\"M2.87.5h14.26c1.12 0 2.037.75 2.037 1.667v11.667c0 .917-.917 1.667-2.037 1.667H2.87c-1.12 0-2.037-.75-2.037-1.667V2.167C.833 1.25 1.75.5 2.87.5zm3.325 9.007h-2.1V4.576H2.9V10.5h3.296v-.993zm.745.993h1.196V4.576H6.94V10.5zm4.13-1.628l.997-4.297h1.335l-1.71 5.924h-1.245L8.75 4.576h1.327l.993 4.297zm4.085-.936h1.864v-.964h-1.864v-1.4h2.197v-.997H13.96V10.5h3.402v-.993h-2.205v-1.57z\" fill-rule=\"evenodd\">\\n     </path>\\n    </symbol>\\n    <symbol id=\"UII_Data\" viewbox=\"0 0 18 20\" xmlns=\"http://www.w3.org/2000/svg\">\\n     <path d=\"M17 2c.6 0 1 .4 1 1v16c0 .6-.4 1-1 1H1c-.6 0-1-.4-1-1V3c0-.6.4-1 1-1h3V0h2v2h6V0h2v2h3zm-1 16V6H2v12h14zM4 8h5v5H4V8z\">\\n     </path>\\n    </symbol>\\n    <symbol id=\"UII_Casino\" viewbox=\"0 0 24 24\" xmlns=\"http://www.w3.org/2000/svg\">\\n     <path d=\"M11.2 3.8l.9-1.8.9 1.8 2 .3-1.45 1.4.34 2-1.8-.94-1.8.94.34-2L9.2 4.1l2-.3zm3 6.25h7.9v12.72H2V10.06h12.2zm6.05 10.88H16V11.9h4.24v9.03zm-6.08 0H9.93V11.9h4.24v9.03zm-6.08 0H3.84V11.9h4.24v9.03zM15.96 7.2l-.34 2 1.8-.94 1.8.94-.34-2 1.44-1.4-2-.3-.9-1.8-.9 1.8-2 .3 1.44 1.4zm-9.2 1.05l-1.8.94.34-2-1.44-1.4 2-.3.9-1.8.9 1.8 2 .3L8.2 7.2l.34 2-1.78-.94z\" fill-rule=\"evenodd\">\\n     </path>\\n    </symbol>\\n    <symbol id=\"UII_VirtualSport\" viewbox=\"0 0 24 24\" xmlns=\"http://www.w3.org/2000/svg\">\\n     <path d=\"M4.3 3.9c-.18 0-.46.2-.46.58v9.16c0 .4.3.6.46.6h8.78a1 1 0 1 1 0 2h-1.1v1.46h1.6c.44 0 .8.4.8.87s-.36.87-.8.87H8c-.44 0-.8-.4-.8-.87s.36-.87.8-.87h1.6v-1.46H4.3c-1.43 0-2.46-1.25-2.46-2.6V4.5c0-1.35 1.03-2.58 2.46-2.58h12.96c1.43 0 2.45 1.24 2.45 2.58v5.34a1 1 0 1 1-2 0V4.5c0-.4-.28-.58-.45-.58H4.3zm13.22 9.87c-.4 0-.77.36-.77.9v3.8c0 1.2.88 2.1 1.88 2.1s1.88-.9 1.88-2.1v-3.8c0-.53-.4-.9-.77-.9h-2.2zm-1.77.9c0-1 .75-1.9 1.77-1.9h2.2c1.02 0 1.77.9 1.77 1.9v3.8c0 1.67-1.25 3.1-2.88 3.1s-2.88-1.43-2.88-3.1v-3.8zm2.1 2.07c0 .48.36.87.8.87s.8-.4.8-.87v-.87c0-.48-.36-.87-.8-.87s-.8.4-.8.87v.87z\" fill-rule=\"evenodd\">\\n     </path>\\n    </symbol>\\n   </svg>\\n   <div class=\"DefaultLayout--content-wrapper\">\\n    <div class=\"DefaultNavigationDesktopMenu\">\\n    </div>\\n    <div id=\"loader-container\" style=\"position:absolute;color:#000;top:0;left:0;right:0;bottom:0;display:block;z-index:10000\">\\n     <div id=\"loader\" style=\"position:absolute;color:#000;top:50%;left:50%;transform:translate(-50%,-50%)\">\\n      <svg height=\"45\" id=\"Layer_1\" version=\"1.1\" viewbox=\"0 0 500 150\" width=\"150\" x=\"0\" xml:space=\"preserve\" xmlns=\"http://www.w3.org/2000/svg\" y=\"0\">\\n       <style>\\n        .st0{fill:#f8ff13}\\n       </style>\\n       <path class=\"st0\" d=\"M94.1 70l5.3-18.6h24.7c13 0 20.9-5.9 24.5-18.4l2-6.9C155.2 10.2 147.7.3 131.3.3H23.9L3.9 70h90.2zm37.1-51L127 34.2h-22.6l4.3-15.1h22.5zM159.8 70l6.6-11.7H197V70h20.1V.2h-39.5L136.5 70h23.3zm28.9-50.8h8.3v22.2h-21l12.7-22.2zM299.1 32.3l1.8-6.3C305.5 9.9 298 .2 281.6.2h-38.2l-20 69.8h20.9l5.5-19.2h13l5.9 19.2h21.5l-6.3-20.5c7.6-2.3 12.6-8 15.2-17.2M258.9 19h22.5l-4.2 15.1h-22.6l4.3-15.1zM318.7 70l20-69.8h-21L297.8 70zM190.6 79.9L167 107.8l-9.7-27.9H66.8l-19.9 69.9h90.2l11-38.6 7.3 21.6h13.5l19.5-23-11.5 40h20.9l19.9-69.9zM245.7 79.9l-41.2 69.8h23.3l6.6-11.7H265v11.7h20.1V80l-39.4-.1zm-1.6 41.3L256.7 99h8.3v22.2h-20.9zM355.8 99.9l5.7-20H298l-5.7 20h23L301 149.8h20.9l14.3-49.9zM383.7 99.9h31.7l5.8-19.9h-33.8c-13 0-20.9 5.9-24.5 18.4l-7.4 25.5c-4.7 16.3 2.9 25.8 19.3 25.8h26.3l5.7-19.9h-31.7l8.6-29.9zM475.2 79.9l-7.2 25h-23.9l7.1-25h-20.9l-19.9 69.9h20.9l7.1-25h23.9l-7.1 25h21l19.9-69.9z\">\\n       </path>\\n      </svg>\\n     </div>\\n    </div>\\n   </div>\\n  </div>\\n  <div id=\"root\">\\n  </div>\\n  <script async=\"\" src=\"/lcpContent.js\">\\n  </script>\\n  <script id=\"pre-render--configs\">\\n  </script>\\n  <script src=\"main.8a71d7bad6cd80875bb5.js\">\\n  </script>\\n  <script src=\"shell.js\">\\n  </script>\\n </body>\\n</html>\\n'"
      ]
     },
     "execution_count": 60,
     "metadata": {},
     "output_type": "execute_result"
    }
   ],
   "source": [
    "soup.prettify()"
   ]
  },
  {
   "cell_type": "code",
   "execution_count": 44,
   "metadata": {},
   "outputs": [
    {
     "ename": "TypeError",
     "evalue": "Tag.childGenerator() takes 1 positional argument but 2 were given",
     "output_type": "error",
     "traceback": [
      "\u001b[0;31m---------------------------------------------------------------------------\u001b[0m",
      "\u001b[0;31mTypeError\u001b[0m                                 Traceback (most recent call last)",
      "Cell \u001b[0;32mIn[44], line 2\u001b[0m\n\u001b[1;32m      1\u001b[0m events\u001b[39m=\u001b[39msoup\u001b[39m.\u001b[39mfindAll(\u001b[39m\"\u001b[39m\u001b[39mdiv\u001b[39m\u001b[39m\"\u001b[39m,\u001b[39mid\u001b[39m\u001b[39m=\u001b[39m\u001b[39m\"\u001b[39m\u001b[39mroot\u001b[39m\u001b[39m\"\u001b[39m)\n\u001b[0;32m----> 2\u001b[0m \u001b[39mprint\u001b[39m(soup\u001b[39m.\u001b[39;49mchildGenerator(events))\n",
      "\u001b[0;31mTypeError\u001b[0m: Tag.childGenerator() takes 1 positional argument but 2 were given"
     ]
    }
   ],
   "source": [
    "events=soup.findAll(\"div\",id=\"root\")"
   ]
  },
  {
   "cell_type": "code",
   "execution_count": null,
   "metadata": {},
   "outputs": [],
   "source": [
    "print(response.content)"
   ]
  },
  {
   "cell_type": "code",
   "execution_count": null,
   "metadata": {},
   "outputs": [],
   "source": [
    "print(events)"
   ]
  },
  {
   "cell_type": "code",
   "execution_count": null,
   "metadata": {},
   "outputs": [],
   "source": [
    "df1 = scrape_all_events()\n",
    "print(df1)"
   ]
  },
  {
   "cell_type": "code",
   "execution_count": null,
   "metadata": {},
   "outputs": [],
   "source": []
  },
  {
   "cell_type": "code",
   "execution_count": 33,
   "metadata": {},
   "outputs": [],
   "source": [
    "import requests\n",
    "from bs4 import BeautifulSoup\n",
    "\n",
    "url = \"https://parimatch.com/en/sports/cricket/\"\n",
    "\n",
    "response = requests.get(url)\n",
    "\n",
    "soup = BeautifulSoup(response.content, \"html.parser\")\n",
    "\n",
    "matches = soup.find_all(\"div\", class_=\"match-item\")\n",
    "\n",
    "for match in matches:\n",
    "\n",
    "    match_name = match.find(\"h3\").text\n",
    "    match_date = match.find(\"span\", class_=\"match-date\").text\n",
    "    match_time = match.find(\"span\", class_=\"match-time\").text\n",
    "    team1 = match.find(\"span\", class_=\"team1\").text\n",
    "    team2 = match.find(\"span\", class_=\"team2\").text\n",
    "    odds = match.find(\"span\", class_=\"odds\").text\n",
    "\n",
    "    print(f\"{match_name} | {match_date} | {match_time} | {team1} | {team2} | {odds}\")\n"
   ]
  },
  {
   "cell_type": "code",
   "execution_count": null,
   "metadata": {},
   "outputs": [],
   "source": [
    "print(df)"
   ]
  },
  {
   "cell_type": "code",
   "execution_count": null,
   "metadata": {},
   "outputs": [],
   "source": [
    "browser = webdriver.Firefox()\n",
    "browser.get('https://gg.bet/en/live')"
   ]
  },
  {
   "cell_type": "code",
   "execution_count": null,
   "metadata": {},
   "outputs": [],
   "source": [
    "browser.get('https://gg.bet/en/live')\n",
    "html=browser.page_source\n",
    "time.sleep(3)\n",
    "table = browser.find_element(By.CLASS_NAME, \"overviewRow__container___2uPYc\")"
   ]
  },
  {
   "cell_type": "code",
   "execution_count": null,
   "metadata": {},
   "outputs": [],
   "source": [
    "soup = BeautifulSoup(html, 'html.parser')"
   ]
  },
  {
   "cell_type": "code",
   "execution_count": null,
   "metadata": {},
   "outputs": [],
   "source": [
    "for a in soup:\n",
    "    print(a)"
   ]
  },
  {
   "cell_type": "code",
   "execution_count": null,
   "metadata": {},
   "outputs": [],
   "source": [
    "a=table.get_attribute('outerHTML')\n",
    "BeautifulSoup.prettify(a)"
   ]
  },
  {
   "cell_type": "code",
   "execution_count": null,
   "metadata": {},
   "outputs": [],
   "source": [
    "def scrape_surebets():\n",
    "    browser = webdriver.Firefox()\n",
    "    browser.get('https://en.surebet.com/surebets')\n",
    "    html=browser.page_source\n",
    "    time.sleep(10)\n",
    "    table = browser.find_element(By.CSS_SELECTOR, \"#surebets-table\")\n",
    "    table_html = table.get_attribute('outerHTML')\n",
    "    df = pd.read_html(table_html)[0]\n",
    "    df.drop(columns=[\"▼Profit\",\"Unnamed: 7\",\"Unnamed: 8\"])\n",
    "    browser.close()\n",
    "    return df"
   ]
  },
  {
   "cell_type": "code",
   "execution_count": null,
   "metadata": {},
   "outputs": [],
   "source": [
    "df=scrape_surebets()"
   ]
  },
  {
   "cell_type": "code",
   "execution_count": null,
   "metadata": {},
   "outputs": [],
   "source": [
    "df"
   ]
  },
  {
   "cell_type": "code",
   "execution_count": null,
   "metadata": {},
   "outputs": [],
   "source": [
    "df.to_csv('/media/adi/032E-9FF0/projects/web bets/surebets.csv', index=False)"
   ]
  },
  {
   "cell_type": "code",
   "execution_count": null,
   "metadata": {},
   "outputs": [],
   "source": [
    "a=soup.find(\"class=__app-LogoTitle-name logoTitle__name___3_ywM\")"
   ]
  },
  {
   "cell_type": "code",
   "execution_count": null,
   "metadata": {},
   "outputs": [],
   "source": [
    "print(a)"
   ]
  },
  {
   "cell_type": "code",
   "execution_count": null,
   "metadata": {},
   "outputs": [],
   "source": [
    "df.drop(columns=[\"▼Profit\",\"Unnamed: 7\",\"Unnamed: 8\"]).to_records"
   ]
  },
  {
   "cell_type": "code",
   "execution_count": null,
   "metadata": {},
   "outputs": [],
   "source": [
    "df"
   ]
  },
  {
   "cell_type": "code",
   "execution_count": null,
   "metadata": {},
   "outputs": [],
   "source": [
    "\"meta\""
   ]
  },
  {
   "cell_type": "code",
   "execution_count": null,
   "metadata": {},
   "outputs": [],
   "source": [
    "df.to_records()"
   ]
  },
  {
   "cell_type": "code",
   "execution_count": null,
   "metadata": {},
   "outputs": [],
   "source": [
    "import requests\n",
    "from bs4 import BeautifulSoup\n",
    "\n",
    "url = \"https://parimatch.com/en/sports/cricket/\"\n",
    "\n",
    "response = requests.get(url)\n",
    "\n",
    "soup = BeautifulSoup(response.content, \"html.parser\")\n",
    "\n",
    "matches = soup.find_all(\"div\", class_=\"match-item\")\n",
    "\n",
    "for match in matches:\n",
    "\n",
    "    match_name = match.find(\"h3\").text\n",
    "    match_date = match.find(\"span\", class_=\"match-date\").text\n",
    "    match_time = match.find(\"span\", class_=\"match-time\").text\n",
    "    team1 = match.find(\"span\", class_=\"team1\").text\n",
    "    team2 = match.find(\"span\", class_=\"team2\").text\n",
    "    odds = match.find(\"span\", class_=\"odds\").text\n",
    "\n",
    "    print(f\"{match_name} | {match_date} | {match_time} | {team1} | {team2} | {odds}\")\n"
   ]
  },
  {
   "cell_type": "code",
   "execution_count": null,
   "metadata": {},
   "outputs": [],
   "source": [
    "import json\n",
    "import re\n",
    "import time\n",
    "from datetime import datetime\n",
    "\n",
    "import requests\n",
    "\n",
    "headers = {\n",
    "    \"accept\": \"*/*\",\n",
    "    \"accept-encoding\": \"gzip, deflate, br\",\n",
    "    \"accept-language\": \"en-US,en;q=0.9,pl;q=0.8\",\n",
    "    \"referer\": \"https://www.oddsportal.com/\",\n",
    "    \"user-agent\": \"Mozilla/5.0 (X11; Linux x86_64) AppleWebKit/537.36 (KHTML, like Gecko) Chrome/86.0.4240.99 Safari/537.36\",\n",
    "}\n",
    "\n",
    "def get_response(url: str) -> str:\n",
    "    return requests.get(url, headers=headers).text\n",
    "\n",
    "time_now_s = int(time.time())\n",
    "time_now_ms = int(round(time.time() * 1000))\n",
    "\n",
    "bookies_js = f\"https://www.oddsportal.com/res/x/bookies-201014103652-{time_now_s}.js\"\n",
    "odds_data_js = f\"https://fb.oddsportal.com/feed/match/1-1-ld9FDhEI-1-2-yje1c.dat?_={time_now_ms}\"\n",
    "\n",
    "bookies = json.loads(re.findall(r\"bookmakersData=(\\{.*\\});var\", get_response(bookies_js))[0])\n",
    "odds_data = json.loads(re.findall(r\"\\.dat',\\s(\\{.*\\})\", get_response(odds_data_js))[0])\n",
    "\n",
    "bookie = bookies[\"417\"][\"WebName\"]  # 417 is 1xBet's code\n",
    "bookies_odds = odds_data[\"d\"][\"oddsdata\"][\"back\"][\"E-1-2-0-0-0\"][\"odds\"][\"417\"]  # current odds for a bookie\n",
    "odds_sorted = dict(sorted(bookies_odds.items())).values()  # sorted as on the website 1 - X - 2\n",
    "\n",
    "print(f\"{bookie} - {' '.join(str(i) for i in odds_sorted)}\")\n",
    "\n",
    "history_columns = {\n",
    "    \"1\": \"4ccecxv464x0xbcsm1\",  # 1 column\n",
    "    \"2\": \"4ccecxv464x0xbcsm2\",  # 2 column\n",
    "    \"X\": \"4ccecxv498x0x0\",  # X column\n",
    "}\n",
    "\n",
    "# odds history for the X column for a given bookie\n",
    "history_data = odds_data[\"d\"][\"history\"][\"back\"][history_columns[\"X\"]][\"417\"]\n",
    "for item in history_data:\n",
    "    value, _, timestamp = item\n",
    "    print(f\"{datetime.fromtimestamp(timestamp)} - {value}\")"
   ]
  },
  {
   "cell_type": "code",
   "execution_count": null,
   "metadata": {},
   "outputs": [],
   "source": [
    "import requests\n",
    "from bs4 import BeautifulSoup\n",
    "\n",
    "# Specify the URL of the page you want to scrape\n",
    "url = 'https://parimatch-in.com/en/cricket/'\n",
    "\n",
    "# Make a request to the URL\n",
    "response = requests.get(url)\n",
    "\n",
    "# Create a BeautifulSoup object from the response\n",
    "soup = BeautifulSoup(response.content, 'html.parser')\n",
    "\n",
    "# Find the elements that contain the data you want to scrape\n",
    "elements = soup.find_all('div')\n",
    "\n",
    "# Loop over the elements and extract the data\n",
    "for element in elements:\n",
    "    # Get the name of the event\n",
    "    event_name = element.find('h3')\n",
    "\n",
    "    # Get the time of the event\n",
    "    event_time = element.find('span', class_='time')\n",
    "\n",
    "    # Get the odds for the event\n",
    "    odds = element.find_all('span', class_='odds')\n",
    "\n",
    "    # Print the data\n",
    "    print(event_name, event_time, odds)\n"
   ]
  },
  {
   "cell_type": "code",
   "execution_count": null,
   "metadata": {},
   "outputs": [],
   "source": [
    "elements = soup.find_all('div')\n"
   ]
  },
  {
   "cell_type": "code",
   "execution_count": null,
   "metadata": {},
   "outputs": [],
   "source": [
    "import requests\n",
    "from bs4 import BeautifulSoup\n",
    "\n",
    "# Specify the URL of the page you want to scrape\n",
    "url = 'https://parimatch.com/en/'\n",
    "\n",
    "# Make a request to the URL\n",
    "response = requests.get(url)\n",
    "\n",
    "# Create a BeautifulSoup object from the response\n",
    "soup = BeautifulSoup(response.content, 'html.parser')\n",
    "\n",
    "# Find the elements that contain the data you want to scrape\n",
    "elements = soup.find_all('div', class_='event-card')\n",
    "import requests\n",
    "from bs4 import BeautifulSoup\n",
    "\n",
    "# Specify the URL of the page you want to scrape\n",
    "url = 'https://parimatch.com/en/'\n",
    "\n",
    "# Make a request to the URL\n",
    "response = requests.get(url)\n",
    "\n",
    "# Create a BeautifulSoup object from the response\n",
    "soup = BeautifulSoup(response.content, 'html.parser')\n",
    "\n",
    "# Find the elements that contain the data you want to scrape\n",
    "elements = soup.find_all('div', class_='event-card')\n",
    "\n",
    "# Loop over the elements and extract the data\n",
    "for element in elements:\n",
    "    # Get the name of the event\n",
    "    event_name = element.find('h3').text\n",
    "\n",
    "    # Get the time of the event\n",
    "    event_time = element.find('span', class_='time').text\n",
    "\n",
    "    # Get the odds for the event\n",
    "    odds = element.find_all('span', class_='odds')\n",
    "\n",
    "    # Print the data\n",
    "    print(event_name, event_time, odds)\n",
    "\n",
    "    # Save the data to a file\n",
    "    with open('parimatch_data.csv', 'w') as f:\n",
    "        f.write('event_name,event_time,odds\\n')\n",
    "        for event_name, event_time, odds in zip(event_names, event_times, odds):\n",
    "            f.write('{event_name},{event_time},{odds}\\n'.format(event_name=event_name, event_time=event_time, odds=', '.join(odds)))\n",
    "(elements)\n",
    "# Loop over the elements and extract the data\n",
    "for element in elements:\n",
    "    # Get the name of the event\n",
    "    event_name = element.find('h3').text\n",
    "\n",
    "    # Get the time of the event\n",
    "    event_time = element.find('span', class_='time').text\n",
    "\n",
    "    # Get the odds for the event\n",
    "    odds = element.find_all('span', class_='odds')\n",
    "\n",
    "    # Print the data\n",
    "    print(event_name, event_time, odds)\n",
    "\n",
    "    # Save the data to a file\n",
    "    with open('parimatch_data.csv', 'w') as f:\n",
    "        f.write('event_name,event_time,odds\\n')\n",
    "        for event_name, event_time, odds in zip(event_names, event_times, odds):\n",
    "            f.write('{event_name},{event_time},{odds}\\n'.format(event_name=event_name, event_time=event_time, odds=', '.join(odds)))\n"
   ]
  }
 ],
 "metadata": {
  "kernelspec": {
   "display_name": "webscraping",
   "language": "python",
   "name": "python3"
  },
  "language_info": {
   "codemirror_mode": {
    "name": "ipython",
    "version": 3
   },
   "file_extension": ".py",
   "mimetype": "text/x-python",
   "name": "python",
   "nbconvert_exporter": "python",
   "pygments_lexer": "ipython3",
   "version": "3.11.3"
  },
  "orig_nbformat": 4
 },
 "nbformat": 4,
 "nbformat_minor": 2
}
