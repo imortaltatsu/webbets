{
 "cells": [
  {
   "cell_type": "code",
   "execution_count": null,
   "metadata": {},
   "outputs": [],
   "source": [
    "from selenium import webdriver\n",
    "from datetime import datetime\n",
    "from selenium.webdriver.common.by import By\n",
    "import pandas as pd\n",
    "import time\n",
    "import json\n",
    "from bs4 import BeautifulSoup"
   ]
  },
  {
   "cell_type": "code",
   "execution_count": null,
   "metadata": {},
   "outputs": [],
   "source": [
    "def scrape_all_events():\n",
    "  \"\"\"\n",
    "  Scrape all events from Parimatch for a given sport.\n",
    "\n",
    "  Args:\n",
    "    sport: The sport to scrape data for.\n",
    "\n",
    "  Returns:\n",
    "    A DataFrame containing the scraped data.\n",
    "  \"\"\"\n",
    "\n",
    "  # Get the URL for the events page.\n",
    "  url = f\"https://parimatch-in.com/en/cricket/\"\n",
    "\n",
    "  # Scrape the page.\n",
    "  response = requests.get(url)\n",
    "  soup = BeautifulSoup(response.content, \"html.parser\")\n",
    "\n",
    "  # Get the events.\n",
    "  events = soup.find_all(\"div\", class_=\"event-container\")\n",
    "\n",
    "  # Create a DataFrame to store the data.\n",
    "  df = pd.DataFrame()\n",
    "\n",
    "  # Add the events to the DataFrame.\n",
    "  for event in events:\n",
    "    event_name = event.find(\"h3\").text\n",
    "    event_url = event.find(\"a\").get(\"href\")\n",
    "    df = df.append({\"Event Name\": event_name, \"Event URL\": event_url}, ignore_index=True)\n",
    "\n",
    "  # Return the DataFrame.\n",
    "  return df"
   ]
  },
  {
   "cell_type": "code",
   "execution_count": null,
   "metadata": {},
   "outputs": [],
   "source": [
    "df1 = scrape_parimatch_all()"
   ]
  },
  {
   "cell_type": "code",
   "execution_count": null,
   "metadata": {},
   "outputs": [],
   "source": [
    "import requests\n",
    "from bs4 import BeautifulSoup\n",
    "\n",
    "url = \"https://parimatch.com/en/sports/cricket/\"\n",
    "\n",
    "response = requests.get(url)\n",
    "\n",
    "soup = BeautifulSoup(response.content, \"html.parser\")\n",
    "\n",
    "matches = soup.find_all(\"div\", class_=\"match-item\")\n",
    "\n",
    "for match in matches:\n",
    "\n",
    "    match_name = match.find(\"h3\").text\n",
    "    match_date = match.find(\"span\", class_=\"match-date\").text\n",
    "    match_time = match.find(\"span\", class_=\"match-time\").text\n",
    "    team1 = match.find(\"span\", class_=\"team1\").text\n",
    "    team2 = match.find(\"span\", class_=\"team2\").text\n",
    "    odds = match.find(\"span\", class_=\"odds\").text\n",
    "\n",
    "    print(f\"{match_name} | {match_date} | {match_time} | {team1} | {team2} | {odds}\")\n"
   ]
  },
  {
   "cell_type": "code",
   "execution_count": null,
   "metadata": {},
   "outputs": [],
   "source": [
    "print(df)"
   ]
  },
  {
   "cell_type": "code",
   "execution_count": null,
   "metadata": {},
   "outputs": [],
   "source": [
    "browser = webdriver.Firefox()\n",
    "browser.get('https://gg.bet/en/live')"
   ]
  },
  {
   "cell_type": "code",
   "execution_count": null,
   "metadata": {},
   "outputs": [],
   "source": [
    "browser.get('https://gg.bet/en/live')\n",
    "html=browser.page_source\n",
    "time.sleep(3)\n",
    "table = browser.find_element(By.CLASS_NAME, \"overviewRow__container___2uPYc\")"
   ]
  },
  {
   "cell_type": "code",
   "execution_count": null,
   "metadata": {},
   "outputs": [],
   "source": [
    "soup = BeautifulSoup(html, 'html.parser')"
   ]
  },
  {
   "cell_type": "code",
   "execution_count": null,
   "metadata": {},
   "outputs": [],
   "source": [
    "for a in soup:\n",
    "    print(a)"
   ]
  },
  {
   "cell_type": "code",
   "execution_count": null,
   "metadata": {},
   "outputs": [],
   "source": [
    "a=table.get_attribute('outerHTML')\n",
    "BeautifulSoup.prettify(a)"
   ]
  },
  {
   "cell_type": "code",
   "execution_count": null,
   "metadata": {},
   "outputs": [],
   "source": [
    "def scrape_surebets():\n",
    "    browser = webdriver.Firefox()\n",
    "    browser.get('https://en.surebet.com/surebets')\n",
    "    html=browser.page_source\n",
    "    time.sleep(10)\n",
    "    table = browser.find_element(By.CSS_SELECTOR, \"#surebets-table\")\n",
    "    table_html = table.get_attribute('outerHTML')\n",
    "    df = pd.read_html(table_html)[0]\n",
    "    df.drop(columns=[\"▼Profit\",\"Unnamed: 7\",\"Unnamed: 8\"])\n",
    "    browser.close()\n",
    "    return df"
   ]
  },
  {
   "cell_type": "code",
   "execution_count": null,
   "metadata": {},
   "outputs": [],
   "source": [
    "df=scrape_surebets()"
   ]
  },
  {
   "cell_type": "code",
   "execution_count": null,
   "metadata": {},
   "outputs": [],
   "source": [
    "df"
   ]
  },
  {
   "cell_type": "code",
   "execution_count": null,
   "metadata": {},
   "outputs": [],
   "source": [
    "df.to_csv('/media/adi/032E-9FF0/projects/web bets/surebets.csv', index=False)"
   ]
  },
  {
   "cell_type": "code",
   "execution_count": null,
   "metadata": {},
   "outputs": [],
   "source": [
    "a=soup.find(\"class=__app-LogoTitle-name logoTitle__name___3_ywM\")"
   ]
  },
  {
   "cell_type": "code",
   "execution_count": null,
   "metadata": {},
   "outputs": [],
   "source": [
    "print(a)"
   ]
  },
  {
   "cell_type": "code",
   "execution_count": null,
   "metadata": {},
   "outputs": [],
   "source": [
    "df.drop(columns=[\"▼Profit\",\"Unnamed: 7\",\"Unnamed: 8\"]).to_records"
   ]
  },
  {
   "cell_type": "code",
   "execution_count": null,
   "metadata": {},
   "outputs": [],
   "source": [
    "df"
   ]
  },
  {
   "cell_type": "code",
   "execution_count": null,
   "metadata": {},
   "outputs": [],
   "source": [
    "\"meta\""
   ]
  },
  {
   "cell_type": "code",
   "execution_count": null,
   "metadata": {},
   "outputs": [],
   "source": [
    "df.to_records()"
   ]
  },
  {
   "cell_type": "code",
   "execution_count": 49,
   "metadata": {},
   "outputs": [],
   "source": [
    "import requests\n",
    "from bs4 import BeautifulSoup\n",
    "\n",
    "url = \"https://parimatch.com/en/sports/cricket/\"\n",
    "\n",
    "response = requests.get(url)\n",
    "\n",
    "soup = BeautifulSoup(response.content, \"html.parser\")\n",
    "\n",
    "matches = soup.find_all(\"div\", class_=\"match-item\")\n",
    "\n",
    "for match in matches:\n",
    "\n",
    "    match_name = match.find(\"h3\").text\n",
    "    match_date = match.find(\"span\", class_=\"match-date\").text\n",
    "    match_time = match.find(\"span\", class_=\"match-time\").text\n",
    "    team1 = match.find(\"span\", class_=\"team1\").text\n",
    "    team2 = match.find(\"span\", class_=\"team2\").text\n",
    "    odds = match.find(\"span\", class_=\"odds\").text\n",
    "\n",
    "    print(f\"{match_name} | {match_date} | {match_time} | {team1} | {team2} | {odds}\")\n"
   ]
  },
  {
   "cell_type": "code",
   "execution_count": 111,
   "metadata": {},
   "outputs": [
    {
     "name": "stdout",
     "output_type": "stream",
     "text": [
      "None None []\n",
      "None None []\n",
      "None None []\n",
      "None None []\n",
      "None None []\n",
      "None None []\n"
     ]
    }
   ],
   "source": [
    "import requests\n",
    "from bs4 import BeautifulSoup\n",
    "\n",
    "# Specify the URL of the page you want to scrape\n",
    "url = 'https://parimatch-in.com/en/cricket/'\n",
    "\n",
    "# Make a request to the URL\n",
    "response = requests.get(url)\n",
    "\n",
    "# Create a BeautifulSoup object from the response\n",
    "soup = BeautifulSoup(response.content, 'html.parser')\n",
    "\n",
    "# Find the elements that contain the data you want to scrape\n",
    "elements = soup.find_all('div')\n",
    "\n",
    "# Loop over the elements and extract the data\n",
    "for element in elements:\n",
    "    # Get the name of the event\n",
    "    event_name = element.find('h3')\n",
    "\n",
    "    # Get the time of the event\n",
    "    event_time = element.find('span', class_='time')\n",
    "\n",
    "    # Get the odds for the event\n",
    "    odds = element.find_all('span', class_='odds')\n",
    "\n",
    "    # Print the data\n",
    "    print(event_name, event_time, odds)\n"
   ]
  },
  {
   "cell_type": "code",
   "execution_count": 138,
   "metadata": {},
   "outputs": [],
   "source": [
    "elements = soup.find_all('div')\n"
   ]
  },
  {
   "cell_type": "code",
   "execution_count": 144,
   "metadata": {},
   "outputs": [
    {
     "ename": "NameError",
     "evalue": "name 'pri1nt' is not defined",
     "output_type": "error",
     "traceback": [
      "\u001b[0;31m---------------------------------------------------------------------------\u001b[0m",
      "\u001b[0;31mNameError\u001b[0m                                 Traceback (most recent call last)",
      "Cell \u001b[0;32mIn[144], line 15\u001b[0m\n\u001b[1;32m     13\u001b[0m \u001b[39m# Find the elements that contain the data you want to scrape\u001b[39;00m\n\u001b[1;32m     14\u001b[0m elements \u001b[39m=\u001b[39m soup\u001b[39m.\u001b[39mfind_all(\u001b[39m'\u001b[39m\u001b[39mdiv\u001b[39m\u001b[39m'\u001b[39m, class_\u001b[39m=\u001b[39m\u001b[39m'\u001b[39m\u001b[39mevent-card\u001b[39m\u001b[39m'\u001b[39m)\n\u001b[0;32m---> 15\u001b[0m pri1nt(elements)\n\u001b[1;32m     16\u001b[0m \u001b[39m# Loop over the elements and extract the data\u001b[39;00m\n\u001b[1;32m     17\u001b[0m \u001b[39mfor\u001b[39;00m element \u001b[39min\u001b[39;00m elements:\n\u001b[1;32m     18\u001b[0m     \u001b[39m# Get the name of the event\u001b[39;00m\n",
      "\u001b[0;31mNameError\u001b[0m: name 'pri1nt' is not defined"
     ]
    }
   ],
   "source": [
    "import requests\n",
    "from bs4 import BeautifulSoup\n",
    "\n",
    "# Specify the URL of the page you want to scrape\n",
    "url = 'https://parimatch.com/en/'\n",
    "\n",
    "# Make a request to the URL\n",
    "response = requests.get(url)\n",
    "\n",
    "# Create a BeautifulSoup object from the response\n",
    "soup = BeautifulSoup(response.content, 'html.parser')\n",
    "\n",
    "# Find the elements that contain the data you want to scrape\n",
    "elements = soup.find_all('div', class_='event-card')\n",
    "import requests\n",
    "from bs4 import BeautifulSoup\n",
    "\n",
    "# Specify the URL of the page you want to scrape\n",
    "url = 'https://parimatch.com/en/'\n",
    "\n",
    "# Make a request to the URL\n",
    "response = requests.get(url)\n",
    "\n",
    "# Create a BeautifulSoup object from the response\n",
    "soup = BeautifulSoup(response.content, 'html.parser')\n",
    "\n",
    "# Find the elements that contain the data you want to scrape\n",
    "elements = soup.find_all('div', class_='event-card')\n",
    "\n",
    "# Loop over the elements and extract the data\n",
    "for element in elements:\n",
    "    # Get the name of the event\n",
    "    event_name = element.find('h3').text\n",
    "\n",
    "    # Get the time of the event\n",
    "    event_time = element.find('span', class_='time').text\n",
    "\n",
    "    # Get the odds for the event\n",
    "    odds = element.find_all('span', class_='odds')\n",
    "\n",
    "    # Print the data\n",
    "    print(event_name, event_time, odds)\n",
    "\n",
    "    # Save the data to a file\n",
    "    with open('parimatch_data.csv', 'w') as f:\n",
    "        f.write('event_name,event_time,odds\\n')\n",
    "        for event_name, event_time, odds in zip(event_names, event_times, odds):\n",
    "            f.write('{event_name},{event_time},{odds}\\n'.format(event_name=event_name, event_time=event_time, odds=', '.join(odds)))\n",
    "(elements)\n",
    "# Loop over the elements and extract the data\n",
    "for element in elements:\n",
    "    # Get the name of the event\n",
    "    event_name = element.find('h3').text\n",
    "\n",
    "    # Get the time of the event\n",
    "    event_time = element.find('span', class_='time').text\n",
    "\n",
    "    # Get the odds for the event\n",
    "    odds = element.find_all('span', class_='odds')\n",
    "\n",
    "    # Print the data\n",
    "    print(event_name, event_time, odds)\n",
    "\n",
    "    # Save the data to a file\n",
    "    with open('parimatch_data.csv', 'w') as f:\n",
    "        f.write('event_name,event_time,odds\\n')\n",
    "        for event_name, event_time, odds in zip(event_names, event_times, odds):\n",
    "            f.write('{event_name},{event_time},{odds}\\n'.format(event_name=event_name, event_time=event_time, odds=', '.join(odds)))\n"
   ]
  }
 ],
 "metadata": {
  "kernelspec": {
   "display_name": "webscraping",
   "language": "python",
   "name": "python3"
  },
  "language_info": {
   "codemirror_mode": {
    "name": "ipython",
    "version": 3
   },
   "file_extension": ".py",
   "mimetype": "text/x-python",
   "name": "python",
   "nbconvert_exporter": "python",
   "pygments_lexer": "ipython3",
   "version": "3.11.3"
  },
  "orig_nbformat": 4
 },
 "nbformat": 4,
 "nbformat_minor": 2
}
