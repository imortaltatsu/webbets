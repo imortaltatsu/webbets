{
 "cells": [
  {
   "cell_type": "code",
   "execution_count": 3,
   "metadata": {},
   "outputs": [],
   "source": [
    "from selenium import webdriver\n",
    "from datetime import datetime\n",
    "from selenium.webdriver.common.by import By\n",
    "import pandas as pd\n",
    "import time\n",
    "import json\n",
    "from bs4 import BeautifulSoup"
   ]
  },
  {
   "cell_type": "code",
   "execution_count": 61,
   "metadata": {},
   "outputs": [
    {
     "name": "stderr",
     "output_type": "stream",
     "text": [
      "/tmp/ipykernel_4979/2680027033.py:11: FutureWarning: The frame.append method is deprecated and will be removed from pandas in a future version. Use pandas.concat instead.\n",
      "  df=df.append({\"teams\":name,\"team 1 odds\":a[0].text,\"team 2 odds\":a[1].text,\"website\":\"parimatch\"},ignore_index=True)\n",
      "/tmp/ipykernel_4979/2680027033.py:11: FutureWarning: The frame.append method is deprecated and will be removed from pandas in a future version. Use pandas.concat instead.\n",
      "  df=df.append({\"teams\":name,\"team 1 odds\":a[0].text,\"team 2 odds\":a[1].text,\"website\":\"parimatch\"},ignore_index=True)\n",
      "/tmp/ipykernel_4979/2680027033.py:11: FutureWarning: The frame.append method is deprecated and will be removed from pandas in a future version. Use pandas.concat instead.\n",
      "  df=df.append({\"teams\":name,\"team 1 odds\":a[0].text,\"team 2 odds\":a[1].text,\"website\":\"parimatch\"},ignore_index=True)\n",
      "/tmp/ipykernel_4979/2680027033.py:11: FutureWarning: The frame.append method is deprecated and will be removed from pandas in a future version. Use pandas.concat instead.\n",
      "  df=df.append({\"teams\":name,\"team 1 odds\":a[0].text,\"team 2 odds\":a[1].text,\"website\":\"parimatch\"},ignore_index=True)\n",
      "/tmp/ipykernel_4979/2680027033.py:11: FutureWarning: The frame.append method is deprecated and will be removed from pandas in a future version. Use pandas.concat instead.\n",
      "  df=df.append({\"teams\":name,\"team 1 odds\":a[0].text,\"team 2 odds\":a[1].text,\"website\":\"parimatch\"},ignore_index=True)\n",
      "/tmp/ipykernel_4979/2680027033.py:11: FutureWarning: The frame.append method is deprecated and will be removed from pandas in a future version. Use pandas.concat instead.\n",
      "  df=df.append({\"teams\":name,\"team 1 odds\":a[0].text,\"team 2 odds\":a[1].text,\"website\":\"parimatch\"},ignore_index=True)\n",
      "/tmp/ipykernel_4979/2680027033.py:11: FutureWarning: The frame.append method is deprecated and will be removed from pandas in a future version. Use pandas.concat instead.\n",
      "  df=df.append({\"teams\":name,\"team 1 odds\":a[0].text,\"team 2 odds\":a[1].text,\"website\":\"parimatch\"},ignore_index=True)\n",
      "/tmp/ipykernel_4979/2680027033.py:11: FutureWarning: The frame.append method is deprecated and will be removed from pandas in a future version. Use pandas.concat instead.\n",
      "  df=df.append({\"teams\":name,\"team 1 odds\":a[0].text,\"team 2 odds\":a[1].text,\"website\":\"parimatch\"},ignore_index=True)\n"
     ]
    }
   ],
   "source": [
    "df=pd.DataFrame(columns=[\"teams\",\"team 1 odds\",\"team 2 odds\",\"website\"])\n",
    "browser = webdriver.Edge()\n",
    "browser.get('https://parimatch-in.com/en/cricket/live')\n",
    "time.sleep(10)\n",
    "data=browser.find_element(By.CSS_SELECTOR, '#line-holder > div.EC_AI')\n",
    "soup = BeautifulSoup(data.get_attribute('innerHTML'), 'html.parser')\n",
    "matches = soup.findAll(\"div\",class_='EC_BP')\n",
    "for match in matches:\n",
    "    a=match.findAll(class_=\"styles_odd__1vusX\")\n",
    "    name=match.findAll(\"styles_name__2QIKf styles_name-horizontal__217P1\")\n",
    "    df=df.append({\"teams\":name,\"team 1 odds\":a[0].text,\"team 2 odds\":a[1].text,\"website\":\"parimatch\"},ignore_index=True)\n",
    "browser.quit()"
   ]
  },
  {
   "cell_type": "code",
   "execution_count": 60,
   "metadata": {},
   "outputs": [
    {
     "data": {
      "text/html": [
       "<div>\n",
       "<style scoped>\n",
       "    .dataframe tbody tr th:only-of-type {\n",
       "        vertical-align: middle;\n",
       "    }\n",
       "\n",
       "    .dataframe tbody tr th {\n",
       "        vertical-align: top;\n",
       "    }\n",
       "\n",
       "    .dataframe thead th {\n",
       "        text-align: right;\n",
       "    }\n",
       "</style>\n",
       "<table border=\"1\" class=\"dataframe\">\n",
       "  <thead>\n",
       "    <tr style=\"text-align: right;\">\n",
       "      <th></th>\n",
       "      <th>teams</th>\n",
       "      <th>team 1 odds</th>\n",
       "      <th>team 2 odds</th>\n",
       "      <th>website</th>\n",
       "    </tr>\n",
       "  </thead>\n",
       "  <tbody>\n",
       "    <tr>\n",
       "      <th>0</th>\n",
       "      <td>[]</td>\n",
       "      <td>1.27</td>\n",
       "      <td>3.45</td>\n",
       "      <td>parimatch</td>\n",
       "    </tr>\n",
       "    <tr>\n",
       "      <th>1</th>\n",
       "      <td>[]</td>\n",
       "      <td>1.59</td>\n",
       "      <td>2.24</td>\n",
       "      <td>parimatch</td>\n",
       "    </tr>\n",
       "    <tr>\n",
       "      <th>2</th>\n",
       "      <td>[]</td>\n",
       "      <td>2.26</td>\n",
       "      <td>1.58</td>\n",
       "      <td>parimatch</td>\n",
       "    </tr>\n",
       "    <tr>\n",
       "      <th>3</th>\n",
       "      <td>[]</td>\n",
       "      <td>1.01</td>\n",
       "      <td>19.78</td>\n",
       "      <td>parimatch</td>\n",
       "    </tr>\n",
       "    <tr>\n",
       "      <th>4</th>\n",
       "      <td>[]</td>\n",
       "      <td>1.57</td>\n",
       "      <td>2.28</td>\n",
       "      <td>parimatch</td>\n",
       "    </tr>\n",
       "    <tr>\n",
       "      <th>5</th>\n",
       "      <td>[]</td>\n",
       "      <td>4.05</td>\n",
       "      <td>1.18</td>\n",
       "      <td>parimatch</td>\n",
       "    </tr>\n",
       "    <tr>\n",
       "      <th>6</th>\n",
       "      <td>[]</td>\n",
       "      <td>1.54</td>\n",
       "      <td>2.36</td>\n",
       "      <td>parimatch</td>\n",
       "    </tr>\n",
       "    <tr>\n",
       "      <th>7</th>\n",
       "      <td>[]</td>\n",
       "      <td>1.81</td>\n",
       "      <td>1.92</td>\n",
       "      <td>parimatch</td>\n",
       "    </tr>\n",
       "  </tbody>\n",
       "</table>\n",
       "</div>"
      ],
      "text/plain": [
       "  teams team 1 odds team 2 odds    website\n",
       "0    []        1.27        3.45  parimatch\n",
       "1    []        1.59        2.24  parimatch\n",
       "2    []        2.26        1.58  parimatch\n",
       "3    []        1.01       19.78  parimatch\n",
       "4    []        1.57        2.28  parimatch\n",
       "5    []        4.05        1.18  parimatch\n",
       "6    []        1.54        2.36  parimatch\n",
       "7    []        1.81        1.92  parimatch"
      ]
     },
     "execution_count": 60,
     "metadata": {},
     "output_type": "execute_result"
    }
   ],
   "source": [
    "df"
   ]
  },
  {
   "cell_type": "code",
   "execution_count": 26,
   "metadata": {},
   "outputs": [
    {
     "data": {
      "text/plain": [
       "'\\n            2.485\\n        '"
      ]
     },
     "execution_count": 26,
     "metadata": {},
     "output_type": "execute_result"
    }
   ],
   "source": [
    "a[2].text"
   ]
  },
  {
   "cell_type": "code",
   "execution_count": null,
   "metadata": {},
   "outputs": [],
   "source": []
  }
 ],
 "metadata": {
  "kernelspec": {
   "display_name": "webscraping",
   "language": "python",
   "name": "python3"
  },
  "language_info": {
   "codemirror_mode": {
    "name": "ipython",
    "version": 3
   },
   "file_extension": ".py",
   "mimetype": "text/x-python",
   "name": "python",
   "nbconvert_exporter": "python",
   "pygments_lexer": "ipython3",
   "version": "3.11.3"
  },
  "orig_nbformat": 4
 },
 "nbformat": 4,
 "nbformat_minor": 2
}
